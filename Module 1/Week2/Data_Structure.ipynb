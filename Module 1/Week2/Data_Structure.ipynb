{
 "cells": [
  {
   "cell_type": "code",
   "execution_count": null,
   "id": "a65b6c1e",
   "metadata": {},
   "outputs": [],
   "source": [
    "def max_kernel(num_list,k):\n",
    "    result = []\n",
    "    n = len(num_list)\n",
    "    sliding_window = []\n",
    "    for i in range(k):\n",
    "        sliding_window.append(num_list[i])\n",
    "    \n",
    "    for i in range(k, n):\n",
    "        result.append(max(sliding_window))\n",
    "        sliding_window.pop(0)\n",
    "        sliding_window.append(num_list[i])\n",
    "    \n",
    "    result.append(max(sliding_window))\n",
    "    return result\n",
    "\n",
    "assert max_kernel ([3 , 4 , 5 , 1 , -44] , 3) == [5 , 5 , 5]\n",
    "num_list = [3 , 4 , 5 , 1 , -44 , 5 ,10 , 12 ,33 , 1]\n",
    "k = 3\n",
    "print ( max_kernel ( num_list , k ) )"
   ]
  },
  {
   "cell_type": "code",
   "execution_count": 14,
   "id": "86bae4e8",
   "metadata": {},
   "outputs": [
    {
     "name": "stdout",
     "output_type": "stream",
     "text": [
      "{'h': 1, 'e': 1, 'l': 2, 'o': 1}\n"
     ]
    }
   ],
   "source": [
    "def character_count(word):\n",
    "    result = {}\n",
    "    for char in word:\n",
    "        if char in result:\n",
    "            result[char] += 1\n",
    "        else:\n",
    "            result[char] = 1\n",
    "    return result\n",
    "\n",
    "assert character_count(\"hello\") == {'h': 1, 'e': 1, 'l': 2, 'o': 1}\n",
    "word = \"hello\"\n",
    "print(character_count(word))"
   ]
  },
  {
   "cell_type": "code",
   "execution_count": 15,
   "id": "3e888318",
   "metadata": {},
   "outputs": [
    {
     "name": "stdout",
     "output_type": "stream",
     "text": [
      "6\n"
     ]
    }
   ],
   "source": [
    "\n",
    "def count_word(file_path):\n",
    "    counter = {}\n",
    "\n",
    "    # Đọc file và đếm từ\n",
    "    with open(file_path, 'r', encoding='utf-8') as f:\n",
    "        for line in f:\n",
    "            sentence=line.strip().split()\n",
    "            for word in sentence:\n",
    "                word = word.lower()\n",
    "                if word in counter:\n",
    "                    counter[word] += 1\n",
    "                else:\n",
    "                    counter[word] = 1\n",
    "\n",
    "\n",
    "    return counter\n",
    "\n",
    "file_path = './P1_data.txt'\n",
    "result = count_word(file_path)\n",
    "\n",
    "\n",
    "# Kiểm tra điều kiện bài toán\n",
    "assert result['who'] == 3\n",
    "print(result['man'])\n"
   ]
  },
  {
   "cell_type": "code",
   "execution_count": 30,
   "id": "8ea6aa51",
   "metadata": {},
   "outputs": [
    {
     "name": "stdout",
     "output_type": "stream",
     "text": [
      "4\n"
     ]
    }
   ],
   "source": [
    "def levenshtein_distance(source, target):\n",
    "    matrix_storage = [[0] * (len(target) + 1) for _ in range(len(source) + 1)]\n",
    "    for i in range(len(source) + 1):\n",
    "        matrix_storage[i][0] = i\n",
    "    for j in range(len(target) + 1):\n",
    "        matrix_storage[0][j] = j\n",
    "\n",
    "    for i in range(1, len(source) + 1):\n",
    "        for j in range(1, len(target) + 1):\n",
    "            if source[i - 1] == target[j - 1]:\n",
    "                cost = 0\n",
    "            else:\n",
    "                cost = 1\n",
    "            matrix_storage[i][j] = min(\n",
    "                matrix_storage[i - 1][j] + 1,      # deletion\n",
    "                matrix_storage[i][j - 1] + 1,      # insertion\n",
    "                matrix_storage[i - 1][j - 1] + cost # substitution\n",
    "            )\n",
    "    return matrix_storage[len(source)][len(target)]\n",
    "\n",
    "\n",
    "assert levenshtein_distance(\"kitten\", \"sitting\") == 3\n",
    "print(levenshtein_distance(\"hi\", \"hello\"))\n"
   ]
  }
 ],
 "metadata": {
  "kernelspec": {
   "display_name": "Python 3",
   "language": "python",
   "name": "python3"
  },
  "language_info": {
   "codemirror_mode": {
    "name": "ipython",
    "version": 3
   },
   "file_extension": ".py",
   "mimetype": "text/x-python",
   "name": "python",
   "nbconvert_exporter": "python",
   "pygments_lexer": "ipython3",
   "version": "3.11.8"
  }
 },
 "nbformat": 4,
 "nbformat_minor": 5
}
