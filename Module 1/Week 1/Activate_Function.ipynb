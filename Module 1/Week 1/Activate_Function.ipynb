{
 "cells": [
  {
   "cell_type": "markdown",
   "metadata": {},
   "source": [
    "Viết function thực hiện đánh giá classification model bằng F1-Score."
   ]
  },
  {
   "cell_type": "code",
   "execution_count": null,
   "metadata": {},
   "outputs": [
    {
     "name": "stdout",
     "output_type": "stream",
     "text": [
      "precision is  0.6666666666666666\n",
      "recall is  0.6666666666666666\n",
      "f1-score is  0.6666666666666666\n",
      "\n",
      "\n",
      "precision is  0.3333333333333333\n",
      "recall is  0.5\n",
      "f1-score is  0.4\n",
      "\n",
      "\n",
      "fp must be integers\n"
     ]
    }
   ],
   "source": [
    "def excersise_1(tp,fp,fn):\n",
    "    if type(tp) != int:\n",
    "        print(\"tp must be integers\")\n",
    "        return\n",
    "    elif type(fn) != int:\n",
    "        print(\"fn must be integers\")\n",
    "        return \n",
    "    elif type(fp) != int:\n",
    "        print(\"fp must be integers\")\n",
    "        return\n",
    "\n",
    "    if tp < 0 or fp < 0 or fn < 0:\n",
    "        print(\"tp and fp and fn must be positive\")\n",
    "        return\n",
    "\n",
    "    precision=tp/(tp+fp)\n",
    "    recall=tp/(tp+fn)\n",
    "    f1=2*precision*recall/(precision+recall)\n",
    "\n",
    "    print(\"precision is \",precision)\n",
    "    print(\"recall is \",recall)\n",
    "    print(\"f1-score is \",f1)\n",
    "    print(\"\\n\")\n",
    "\n",
    "excersise_1(2,1,1)\n",
    "excersise_1(2,3,4)\n",
    "excersise_1(2,'a',4)"
   ]
  },
  {
   "cell_type": "markdown",
   "metadata": {},
   "source": [
    "Viết function mô phỏng theo 3 activation function bao gồm Sigmoid, ReLU, ELU"
   ]
  },
  {
   "cell_type": "code",
   "execution_count": 11,
   "metadata": {},
   "outputs": [
    {
     "name": "stdout",
     "output_type": "stream",
     "text": [
      "elu:  3.0\n"
     ]
    }
   ],
   "source": [
    "import math\n",
    "def is_number(x):\n",
    "    try:\n",
    "        float(x)\n",
    "        return True\n",
    "    except ValueError:\n",
    "        return False\n",
    "\n",
    "def excersise_2():\n",
    "    x = input(\"Input x = \")\n",
    "    if is_number(x):\n",
    "        y=input(\"Input activation function (sigmoid|relu|elu): \")\n",
    "        if y == \"sigmoid\":\n",
    "            print(\"sigmoid: \",1/(1+math.e**(-x)))\n",
    "            return\n",
    "        elif y == \"relu\":\n",
    "            print(\"relu: \",max(0,x))\n",
    "            return\n",
    "        elif y == \"elu\":\n",
    "            if float(x) < 0:\n",
    "                print(\"elu: \",math.e**x-1)\n",
    "                return\n",
    "            else:\n",
    "                print(\"elu: \",float(x))\n",
    "                return\n",
    "        else:\n",
    "            print(x,\" is not supported\")\n",
    "    else:\n",
    "        print(\"x must be a number\")\n",
    "        return\n",
    "\n",
    "excersise_2()\n"
   ]
  },
  {
   "cell_type": "markdown",
   "metadata": {},
   "source": [
    "Viết function lựa chọn regression loss function phục vụ tính loss:"
   ]
  },
  {
   "cell_type": "code",
   "execution_count": 1,
   "metadata": {},
   "outputs": [
    {
     "name": "stdout",
     "output_type": "stream",
     "text": [
      "loss_name: MAE, sample: 0: pred: 9.439054784609532 target: 1.6155518889339915 loss: 7.82350289567554\n",
      "loss_name: MAE, sample: 1: pred: 1.8224927683116 target: 6.197083967258251 loss: 4.374591198946652\n",
      "loss_name: MAE, sample: 2: pred: 3.294060438025632 target: 7.879093925588709 loss: 4.585033487563077\n",
      "loss_name: MAE, sample: 3: pred: 4.872502558156912 target: 0.7443063074399159 loss: 4.128196250716996\n",
      "loss_name: MAE, sample: 4: pred: 9.218880881007912 target: 8.816788121800862 loss: 0.4020927592070507\n",
      "final MAE: 4.262683318421863\n"
     ]
    }
   ],
   "source": [
    "import random\n",
    "import math\n",
    "\n",
    "def calc_ae(y, y_hat):\n",
    "    return abs(y-y_hat)\n",
    "\n",
    "def calc_se(y, y_hat):\n",
    "    return (y-y_hat)**2\n",
    "\n",
    "def exercise3():\n",
    "    num_samples = input('Input number of samples (integer number) which are generated: ')\n",
    "    if not num_samples.isnumeric():#Hàm isnumeric() trong Python trả về true nếu một chuỗi dạng Unicode chỉ chứa các ký tự số,\n",
    "    #nếu không là false.\n",
    "        print(\"number of samples must be an integer number\")\n",
    "        return # exit()\n",
    "    loss_name = input('Input loss name: ')\n",
    "\n",
    "    # giả sử người dùng luôn nhập đúng MAE, MSE hoặc RMSE\n",
    "    # có thể check bằng list (sẽ học sau)\n",
    "    final_loss = 0\n",
    "    num_samples = int(num_samples)\n",
    "    for i in range(num_samples):\n",
    "        pred_sample = random.uniform(0,10)\n",
    "        target_sample = random.uniform(0,10)\n",
    "\n",
    "        if loss_name == 'MAE':\n",
    "            loss = calc_ae(pred_sample, target_sample)\n",
    "        elif loss_name == 'MSE' or loss_name == 'RMSE':\n",
    "            loss = calc_se(pred_sample, target_sample)\n",
    "        #else : catch error\n",
    "        final_loss += loss\n",
    "        print(f'loss_name: {loss_name}, sample: {i}: pred: {pred_sample} target: {target_sample} loss: {loss}')\n",
    "\n",
    "    final_loss /= num_samples\n",
    "    if loss_name == 'RMSE':\n",
    "        final_loss = math.sqrt(final_loss)\n",
    "    print(f'final {loss_name}: {final_loss}')\n",
    "\n",
    "exercise3()\n"
   ]
  }
 ],
 "metadata": {
  "kernelspec": {
   "display_name": "Python 3",
   "language": "python",
   "name": "python3"
  },
  "language_info": {
   "codemirror_mode": {
    "name": "ipython",
    "version": 3
   },
   "file_extension": ".py",
   "mimetype": "text/x-python",
   "name": "python",
   "nbconvert_exporter": "python",
   "pygments_lexer": "ipython3",
   "version": "3.11.8"
  }
 },
 "nbformat": 4,
 "nbformat_minor": 2
}
